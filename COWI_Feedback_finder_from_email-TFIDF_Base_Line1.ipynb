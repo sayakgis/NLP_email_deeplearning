{
 "cells": [
  {
   "cell_type": "markdown",
   "metadata": {},
   "source": [
    "# COWI Client feedback finder from email\n",
    "\n",
    "### Objective: \n",
    "\n",
    "The objective of this job is to find customer feedback/client feedback and label them automatically. I propose to use Natural Language Processing methods using Deep Learning to build a prediction model.\n",
    "\n",
    "### Dataset:\n",
    "\n",
    "Emails exported from outlook using email export to csv format."
   ]
  },
  {
   "cell_type": "code",
   "execution_count": 1,
   "metadata": {},
   "outputs": [],
   "source": [
    "#Random seed for reproducibility and import basic packages\n",
    "import numpy as np\n",
    "import pandas as pd\n",
    "np.random.seed(42)"
   ]
  },
  {
   "cell_type": "markdown",
   "metadata": {},
   "source": [
    "### Read the dataset"
   ]
  },
  {
   "cell_type": "code",
   "execution_count": 2,
   "metadata": {},
   "outputs": [],
   "source": [
    "local_path='C:/SKCY/Python/COWI/'\n",
    "email_df=pd.read_excel(local_path+'email_feedback.xlsx',sheetname='tags')"
   ]
  },
  {
   "cell_type": "markdown",
   "metadata": {},
   "source": [
    "### How does the dataset look like:"
   ]
  },
  {
   "cell_type": "code",
   "execution_count": 26,
   "metadata": {},
   "outputs": [
    {
     "data": {
      "text/html": [
       "<div>\n",
       "<table border=\"1\" class=\"dataframe\">\n",
       "  <thead>\n",
       "    <tr style=\"text-align: right;\">\n",
       "      <th></th>\n",
       "      <th>Body</th>\n",
       "      <th>Feedback</th>\n",
       "    </tr>\n",
       "  </thead>\n",
       "  <tbody>\n",
       "    <tr>\n",
       "      <th>0</th>\n",
       "      <td>Dear Sayak\\r\\n\\r\\n \\r\\n\\r\\nI would like to dis...</td>\n",
       "      <td>NaN</td>\n",
       "    </tr>\n",
       "    <tr>\n",
       "      <th>1</th>\n",
       "      <td>Dear Sayak\\r\\n\\r\\n \\r\\n\\r\\nMy team completed t...</td>\n",
       "      <td>1.0</td>\n",
       "    </tr>\n",
       "    <tr>\n",
       "      <th>2</th>\n",
       "      <td>Dear Sayak\\r\\n\\r\\n \\r\\n\\r\\nYou must compile th...</td>\n",
       "      <td>NaN</td>\n",
       "    </tr>\n",
       "    <tr>\n",
       "      <th>3</th>\n",
       "      <td>Dear Sayak\\r\\n\\r\\n \\r\\n\\r\\nTomorrow, I will se...</td>\n",
       "      <td>NaN</td>\n",
       "    </tr>\n",
       "    <tr>\n",
       "      <th>4</th>\n",
       "      <td>Dear Sayak\\r\\n\\r\\n \\r\\n\\r\\nIn attached the fin...</td>\n",
       "      <td>NaN</td>\n",
       "    </tr>\n",
       "    <tr>\n",
       "      <th>5</th>\n",
       "      <td>\\r\\n</td>\n",
       "      <td>NaN</td>\n",
       "    </tr>\n",
       "    <tr>\n",
       "      <th>6</th>\n",
       "      <td>Dear Sayak\\r\\n\\r\\n \\r\\n\\r\\nIn attached the lis...</td>\n",
       "      <td>NaN</td>\n",
       "    </tr>\n",
       "    <tr>\n",
       "      <th>7</th>\n",
       "      <td>Dear Sayak\\r\\n\\r\\n \\r\\n\\r\\nPlease, see below m...</td>\n",
       "      <td>NaN</td>\n",
       "    </tr>\n",
       "    <tr>\n",
       "      <th>8</th>\n",
       "      <td>Dear Sayak\\r\\n\\r\\n \\r\\n\\r\\nTomorrow complete o...</td>\n",
       "      <td>NaN</td>\n",
       "    </tr>\n",
       "    <tr>\n",
       "      <th>9</th>\n",
       "      <td>Dear Sayak\\r\\n\\r\\n \\r\\n\\r\\nPlease, let me know...</td>\n",
       "      <td>NaN</td>\n",
       "    </tr>\n",
       "  </tbody>\n",
       "</table>\n",
       "</div>"
      ],
      "text/plain": [
       "                                                Body  Feedback\n",
       "0  Dear Sayak\\r\\n\\r\\n \\r\\n\\r\\nI would like to dis...       NaN\n",
       "1  Dear Sayak\\r\\n\\r\\n \\r\\n\\r\\nMy team completed t...       1.0\n",
       "2  Dear Sayak\\r\\n\\r\\n \\r\\n\\r\\nYou must compile th...       NaN\n",
       "3  Dear Sayak\\r\\n\\r\\n \\r\\n\\r\\nTomorrow, I will se...       NaN\n",
       "4  Dear Sayak\\r\\n\\r\\n \\r\\n\\r\\nIn attached the fin...       NaN\n",
       "5                                               \\r\\n       NaN\n",
       "6  Dear Sayak\\r\\n\\r\\n \\r\\n\\r\\nIn attached the lis...       NaN\n",
       "7  Dear Sayak\\r\\n\\r\\n \\r\\n\\r\\nPlease, see below m...       NaN\n",
       "8  Dear Sayak\\r\\n\\r\\n \\r\\n\\r\\nTomorrow complete o...       NaN\n",
       "9  Dear Sayak\\r\\n\\r\\n \\r\\n\\r\\nPlease, let me know...       NaN"
      ]
     },
     "execution_count": 26,
     "metadata": {},
     "output_type": "execute_result"
    }
   ],
   "source": [
    "email_df[['Body','Feedback']].head(10)"
   ]
  },
  {
   "cell_type": "code",
   "execution_count": 27,
   "metadata": {},
   "outputs": [
    {
     "name": "stdout",
     "output_type": "stream",
     "text": [
      "Number of emails: 2583\n"
     ]
    }
   ],
   "source": [
    "print('Number of emails:',email_df.shape[0])"
   ]
  },
  {
   "cell_type": "code",
   "execution_count": 28,
   "metadata": {},
   "outputs": [],
   "source": [
    "#drop row that does not have any thing in body\n",
    "email_df.Body.fillna(' ',inplace=True)"
   ]
  },
  {
   "cell_type": "markdown",
   "metadata": {},
   "source": [
    "### Let us see the body of first email"
   ]
  },
  {
   "cell_type": "code",
   "execution_count": 30,
   "metadata": {},
   "outputs": [
    {
     "data": {
      "text/plain": [
       "'Dear Sayak\\r\\n\\r\\n \\r\\n\\r\\nYou must compile these urban regions within the precision of the mapping 10,000.\\r\\n\\r\\n \\r\\n\\r\\nRegarding the example you have not need to compile this amount of breaklines, as long as the accuracy of the DTM is within specification standards 10,000.\\r\\n\\r\\n \\r\\n\\r\\nThere is not possibility to be considered these areas as 1,000 mapping scale. Does not make sense...\\r\\n\\r\\n \\r\\n\\r\\nBest regards\\r\\n\\r\\nDenis\\r\\n\\r\\n \\r\\n\\r\\nDe: Manuj Dev [mailto:madv@cowi.com] \\r\\nEnviada em: quarta-feira, 15 de novembro de 2017 12:15\\r\\nPara: Denis Silva; Sayak Chakraborty\\r\\nCc: A099730_Mail; Vinod Kumar Mahindru\\r\\nAssunto: RE: UR Project - dense mapping in 10000 scale\\r\\nPrioridade: Alta\\r\\n\\r\\n \\r\\n\\r\\nDear Denis:\\r\\n\\r\\n \\r\\n\\r\\nWe have encountered an area in Block 11 which is complete dense town of approx.. 74 sqkm. The area details are there in the attached KMZ file.\\r\\n\\r\\n \\r\\n\\r\\nThe sample data from the area is as shown below:\\r\\n\\r\\n \\r\\n\\r\\n\\r\\n\\r\\n \\r\\n\\r\\nWe are experiencing 700% increase in the elements as against the average areas for 10000 mapping scale.\\r\\n\\r\\n \\r\\n\\r\\nI would request if you could review the area and consider this as 1000 mapping.\\r\\n\\r\\n \\r\\n\\r\\nThank you.\\r\\n\\r\\n \\r\\n\\r\\nBest Regards\\r\\n\\r\\n \\r\\n\\r\\nManuj\\r\\n\\r\\n \\r\\n\\r\\n \\r\\n\\r\\nFrom: Denis Silva [mailto:denis@topocart.com.br] \\r\\nSent: Tuesday, November 07, 2017 5:57 PM\\r\\nTo: Sayak Chakraborty <SKCY@cowi.com <mailto:SKCY@cowi.com> >\\r\\nCc: Manuj Dev <madv@cowi.com <mailto:madv@cowi.com> >; A099730_Mail <A099730_Mail@cowi.com <mailto:A099730_Mail@cowi.com> >; Uday Y.S <UDYS@cowi.com <mailto:UDYS@cowi.com> >; Ravindra Kumar <rakr@cowi.com <mailto:rakr@cowi.com> >; C Arun <arca@cowi.com <mailto:arca@cowi.com> >; Deepa K.R <dpkr@cowi.com <mailto:dpkr@cowi.com> >\\r\\nSubject: RES: UR Project - Comments CQ 4 tiles 10k scale\\r\\n\\r\\n \\r\\n\\r\\nDear Sayak\\r\\n\\r\\n \\r\\n\\r\\nPlease, see the comments in attached.\\r\\n\\r\\n \\r\\n\\r\\nThanks and regards\\r\\n\\r\\nDenis\\r\\n\\r\\n \\r\\n\\r\\nDe: Sayak Chakraborty [mailto:SKCY@cowi.com] \\r\\nEnviada em: segunda-feira, 6 de novembro de 2017 07:29\\r\\nPara: Denis Silva\\r\\nCc: Manuj Dev; A099730_Mail; Uday Y.S; Ravindra Kumar; C Arun; Deepa K.R\\r\\nAssunto: RE: UR Project - Comments CQ 4 tiles 10k scale\\r\\n\\r\\n \\r\\n\\r\\nDear Denis,\\r\\n\\r\\n \\r\\n\\r\\nWe have reviewed the feedback and came across to some queries, please review the attached document and confirm your comments.\\r\\n\\r\\n \\r\\n\\r\\nI would request your help on this by today.\\r\\n\\r\\n \\r\\n\\r\\nRegards,\\r\\n\\r\\nSayak\\r\\n\\r\\n \\r\\n\\r\\nFrom: Denis Silva [mailto:denis@topocart.com.br] \\r\\nSent: Friday, November 03, 2017 5:42 PM\\r\\nTo: Sayak Chakraborty <SKCY@cowi.com <mailto:SKCY@cowi.com> >\\r\\nSubject: UR Project - Comments CQ 4 tiles 10k scale\\r\\n\\r\\n \\r\\n\\r\\nDear Sayak\\r\\n\\r\\n \\r\\n\\r\\nPlease, see below the comments about the control quality of the first four tiles 10,000 scale.\\r\\n\\r\\n \\r\\n\\r\\nInitially I would like to say that DTM data is meeting project standards. In this way, we will not have great difficulty in getting approval.\\r\\n\\r\\n \\r\\n\\r\\nOn the other hand, in the compilation of hydrography there are some points to be reviewed.\\r\\n\\r\\n \\r\\n\\r\\nGeneral Observation: \\r\\n\\r\\n \\r\\n\\r\\nMark Errors (File in attached)\\r\\n\\r\\n \\r\\n\\r\\n\\r\\n\\r\\n\\r\\nProblems found:\\r\\n\\r\\n \\r\\n\\r\\n1 - HID_AGUA_ESTANCADA has no flow.\\r\\n\\r\\n \\r\\n\\r\\n\\r\\n\\r\\n \\r\\n\\r\\n2 - Errors in the planimetric compilation of water bodies.\\r\\n\\r\\n \\r\\n\\r\\nWrong\\r\\n\\r\\n\\r\\n\\r\\n\\r\\n\\r\\n \\r\\n\\r\\nRight\\r\\n\\r\\n\\r\\n\\r\\n \\r\\n\\r\\n\\r\\n\\r\\n \\r\\n\\r\\n3- \\r\\n\\r\\n*\\tAvoid the stretch of the river from being a straight line, except when the edge representation is this way..\\r\\n*\\tRepresentation of the fall of the river. Must follow a coherent course. \\r\\n*\\tWhen there are two possible stretches use the lower quota.\\r\\n\\r\\nWrong\\r\\n\\r\\n\\r\\n\\r\\n \\r\\n\\r\\nRight\\r\\n\\r\\n\\r\\n\\r\\n \\r\\n\\r\\n4 - When the river starts after the dam, you should not compile the connection. The connection is only used to connect one segment to another.\\r\\n\\r\\n \\r\\n\\r\\nWrong\\r\\n\\r\\n\\r\\n\\r\\n \\r\\n\\r\\nRight\\r\\n\\r\\n \\r\\n\\r\\n\\r\\n\\r\\n \\r\\n\\r\\n'"
      ]
     },
     "execution_count": 30,
     "metadata": {},
     "output_type": "execute_result"
    }
   ],
   "source": [
    "email_df.Body[2]"
   ]
  },
  {
   "cell_type": "markdown",
   "metadata": {},
   "source": [
    "#### Observation:\n",
    "Problem while exporting the email from inbox is it takes all the chain/trail emails, but only the first part of the email might be relevant for feedback, hence some text processing is required."
   ]
  },
  {
   "cell_type": "markdown",
   "metadata": {},
   "source": [
    "### Data Cleaning\n",
    "\n",
    "Let us write a function to clean and extract important portion of the email"
   ]
  },
  {
   "cell_type": "markdown",
   "metadata": {},
   "source": [
    "### Feedback email extraction function"
   ]
  },
  {
   "cell_type": "code",
   "execution_count": 31,
   "metadata": {},
   "outputs": [],
   "source": [
    "# import regular expression package\n",
    "import re\n",
    "\n",
    "# define delimeters for 1st email to 2nd email for case of chain email\n",
    "delim=['de:','<', 'from:', 'best regards,', 'best regard,', 'thanks,', 'thank you,', 'regards,', '|', 'kind regards']\n",
    "\n",
    "# function to clean and take relevant portion of latest email\n",
    "def clean_str(string1):\n",
    "    string1=re.sub('\\r\\n',' ',string1).lower()       # replace \\r\\n\n",
    "    for i in delim:                              # loop over all delimeters\n",
    "        string1=string1.split(i)\n",
    "        string1=string1[0]\n",
    "    string1=re.sub(r'[^A-Za-z]',\" \",string1)     # Keep alpha characters only, special and numeric \n",
    "    words = string1.strip().lower().split()      # split the sentence to word\n",
    "    words = [w for w in words if len(w)>=1]      # keep greater than one character words\n",
    "    return \" \".join(words)                       # joins them to form sentence\n",
    "    #return string1"
   ]
  },
  {
   "cell_type": "code",
   "execution_count": 32,
   "metadata": {},
   "outputs": [],
   "source": [
    "#apply the functions on dataframe \n",
    "\n",
    "#feedback email\n",
    "email_df['cleaned_body']=email_df.Body.apply(clean_str)"
   ]
  },
  {
   "cell_type": "markdown",
   "metadata": {},
   "source": [
    "#### Let us see how the email looks like now"
   ]
  },
  {
   "cell_type": "code",
   "execution_count": 33,
   "metadata": {},
   "outputs": [
    {
     "name": "stdout",
     "output_type": "stream",
     "text": [
      "Email body:\n",
      " dear sayak you must compile these urban regions within the precision of the mapping regarding the example you have not need to compile this amount of breaklines as long as the accuracy of the dtm is within specification standards there is not possibility to be considered these areas as mapping scale does not make sense best regards denis\n",
      "\n",
      "Feedback reponse: nan\n"
     ]
    }
   ],
   "source": [
    "print('Email body:\\n',email_df.cleaned_body[2])\n",
    "print('\\nFeedback reponse:',email_df.Feedback[2])"
   ]
  },
  {
   "cell_type": "markdown",
   "metadata": {},
   "source": [
    "#### Observation: \n",
    "The column feedback contains values 1 if the email is labeled as client feedback, the non feedback emails do not have any label, let us populate them with zero(0)"
   ]
  },
  {
   "cell_type": "code",
   "execution_count": 34,
   "metadata": {},
   "outputs": [],
   "source": [
    "#fill null values with 0\n",
    "email_df['Feedback']=email_df.Feedback.fillna(0)"
   ]
  },
  {
   "cell_type": "code",
   "execution_count": 35,
   "metadata": {},
   "outputs": [],
   "source": [
    "#see the data now\n",
    "#email_df.head(2)"
   ]
  },
  {
   "cell_type": "code",
   "execution_count": 36,
   "metadata": {},
   "outputs": [
    {
     "data": {
      "text/plain": [
       "Feedback\n",
       "0.0    2414\n",
       "1.0     169\n",
       "Name: Body, dtype: int64"
      ]
     },
     "execution_count": 36,
     "metadata": {},
     "output_type": "execute_result"
    }
   ],
   "source": [
    "email_df.groupby('Feedback').count()['Body']"
   ]
  },
  {
   "cell_type": "markdown",
   "metadata": {},
   "source": [
    "## Let us now design the Feedback prediction model\n",
    "\n",
    "We shall use TFIDF mode= Term Frequency Inverse Document Frequency\n",
    "\n",
    "### Term frequency\n",
    "In the case of the term frequency tf(t,d), the simplest choice is to use the raw count of a term in a document\n",
    "\n",
    "### Inverse document frequency\n",
    "The inverse document frequency is a measure of how much information the word provides, i.e., if it's common or rare across all documents. \n",
    "\n",
    "#### Let us split the data in train and test"
   ]
  },
  {
   "cell_type": "code",
   "execution_count": 37,
   "metadata": {},
   "outputs": [],
   "source": [
    "#import train and test split module\n",
    "from sklearn.model_selection import train_test_split\n",
    "\n",
    "X_train, X_test, y_train,y_test=train_test_split(email_df['cleaned_body'],email_df['Feedback'],\n",
    "                                                 test_size=0.2, random_state=42)"
   ]
  },
  {
   "cell_type": "markdown",
   "metadata": {},
   "source": [
    "#### Build TFIDF vector"
   ]
  },
  {
   "cell_type": "code",
   "execution_count": 38,
   "metadata": {},
   "outputs": [
    {
     "name": "stderr",
     "output_type": "stream",
     "text": [
      "Using TensorFlow backend.\n"
     ]
    }
   ],
   "source": [
    "#import keras tokenizer class\n",
    "from keras.preprocessing.text import Tokenizer\n",
    "\n",
    "top_words=5000\n",
    "t=Tokenizer(top_words)\n",
    "\n",
    "t.fit_on_texts(X_train.tolist())\n",
    "\n",
    "#Build TFIDF\n",
    "X_train=t.texts_to_matrix(X_train.tolist(),mode='tfidf')\n",
    "X_test=t.texts_to_matrix(X_test.tolist(),mode='tfidf')\n"
   ]
  },
  {
   "cell_type": "code",
   "execution_count": 39,
   "metadata": {},
   "outputs": [
    {
     "name": "stdout",
     "output_type": "stream",
     "text": [
      "[0.        0.        1.2565791 ... 0.        0.        0.       ]\n"
     ]
    }
   ],
   "source": [
    "print(X_train[2])"
   ]
  },
  {
   "cell_type": "markdown",
   "metadata": {},
   "source": [
    "## Building the graph"
   ]
  },
  {
   "cell_type": "code",
   "execution_count": 40,
   "metadata": {},
   "outputs": [],
   "source": [
    "#import Sequential model\n",
    "from keras.models import Sequential\n",
    "#import layers for the model\n",
    "from keras.layers import Dense,Dropout,BatchNormalization\n",
    "\n",
    "from keras.callbacks import ModelCheckpoint,TensorBoard\n",
    "\n",
    "#build a sequential model\n",
    "model=Sequential()"
   ]
  },
  {
   "cell_type": "markdown",
   "metadata": {},
   "source": [
    "####  Add the Deep Dense Layer"
   ]
  },
  {
   "cell_type": "code",
   "execution_count": 41,
   "metadata": {},
   "outputs": [],
   "source": [
    "#model.add(BatchNormalization())\n",
    "model.add(Dense(400,activation='tanh',input_shape=(5000,)))\n",
    "#model.add(BatchNormalization())\n",
    "model.add(Dense(200,activation='tanh'))\n",
    "#model.add(BatchNormalization())\n",
    "model.add(Dropout(0.2))\n",
    "model.add(Dense(60,activation='tanh'))\n",
    "#model.add(BatchNormalization())\n",
    "model.add(Dropout(0.2))\n",
    "model.add(Dense(20,activation='tanh'))\n",
    "#model.add(BatchNormalization())\n",
    "model.add(Dense(1,activation='sigmoid'))\n",
    "\n",
    "\n",
    "model.compile(optimizer='adam',loss='binary_crossentropy',metrics=['accuracy'])"
   ]
  },
  {
   "cell_type": "markdown",
   "metadata": {},
   "source": [
    "#### Model checkpoint"
   ]
  },
  {
   "cell_type": "code",
   "execution_count": 42,
   "metadata": {},
   "outputs": [],
   "source": [
    "checkpoint=ModelCheckpoint('C:/SKCY/Python/COWI/COWI_feedback_email_tfidf_test.hdf5',monitor='val_acc',\n",
    "                           mode='max',save_best_only=True,verbose=1)\n",
    "#my_callbacks = [EarlyStopping(monitor='auc_roc', patience=300, verbose=1, mode='max')]"
   ]
  },
  {
   "cell_type": "markdown",
   "metadata": {},
   "source": [
    "#### Set weight to the classes (Change from baseline0)"
   ]
  },
  {
   "cell_type": "code",
   "execution_count": 43,
   "metadata": {},
   "outputs": [],
   "source": [
    "class_wgt={0.0:0.05,1.0:0.95}"
   ]
  },
  {
   "cell_type": "markdown",
   "metadata": {},
   "source": [
    "### Execute the graph"
   ]
  },
  {
   "cell_type": "code",
   "execution_count": 44,
   "metadata": {},
   "outputs": [
    {
     "name": "stdout",
     "output_type": "stream",
     "text": [
      "Train on 2066 samples, validate on 517 samples\n",
      "Epoch 1/30\n",
      "2066/2066 [==============================] - 1s 707us/step - loss: 0.0501 - acc: 0.7304 - val_loss: 0.3851 - val_acc: 0.8549\n",
      "\n",
      "Epoch 00001: val_acc improved from -inf to 0.85493, saving model to C:/SKCY/Python/COWI/COWI_feedback_email_tfidf_test.hdf5\n",
      "Epoch 2/30\n",
      "2066/2066 [==============================] - 1s 499us/step - loss: 0.0160 - acc: 0.9269 - val_loss: 0.1370 - val_acc: 0.9555\n",
      "\n",
      "Epoch 00002: val_acc improved from 0.85493 to 0.95551, saving model to C:/SKCY/Python/COWI/COWI_feedback_email_tfidf_test.hdf5\n",
      "Epoch 3/30\n",
      "2066/2066 [==============================] - 1s 490us/step - loss: 0.0087 - acc: 0.9773 - val_loss: 0.1458 - val_acc: 0.9497\n",
      "\n",
      "Epoch 00003: val_acc did not improve from 0.95551\n",
      "Epoch 4/30\n",
      "2066/2066 [==============================] - 1s 481us/step - loss: 0.0060 - acc: 0.9811 - val_loss: 0.1272 - val_acc: 0.9594\n",
      "\n",
      "Epoch 00004: val_acc improved from 0.95551 to 0.95938, saving model to C:/SKCY/Python/COWI/COWI_feedback_email_tfidf_test.hdf5\n",
      "Epoch 5/30\n",
      "2066/2066 [==============================] - 1s 503us/step - loss: 0.0048 - acc: 0.9908 - val_loss: 0.1285 - val_acc: 0.9652\n",
      "\n",
      "Epoch 00005: val_acc improved from 0.95938 to 0.96518, saving model to C:/SKCY/Python/COWI/COWI_feedback_email_tfidf_test.hdf5\n",
      "Epoch 6/30\n",
      "2066/2066 [==============================] - 1s 511us/step - loss: 0.0037 - acc: 0.9932 - val_loss: 0.1617 - val_acc: 0.9478\n",
      "\n",
      "Epoch 00006: val_acc did not improve from 0.96518\n",
      "Epoch 7/30\n",
      "2066/2066 [==============================] - 1s 482us/step - loss: 0.0036 - acc: 0.9947 - val_loss: 0.1633 - val_acc: 0.9497\n",
      "\n",
      "Epoch 00007: val_acc did not improve from 0.96518\n",
      "Epoch 8/30\n",
      "2066/2066 [==============================] - 1s 490us/step - loss: 0.0030 - acc: 0.9966 - val_loss: 0.1625 - val_acc: 0.9497\n",
      "\n",
      "Epoch 00008: val_acc did not improve from 0.96518\n",
      "Epoch 9/30\n",
      "2066/2066 [==============================] - 1s 496us/step - loss: 0.0028 - acc: 0.9966 - val_loss: 0.1676 - val_acc: 0.9497\n",
      "\n",
      "Epoch 00009: val_acc did not improve from 0.96518\n",
      "Epoch 10/30\n",
      "2066/2066 [==============================] - 1s 490us/step - loss: 0.0028 - acc: 0.9966 - val_loss: 0.1737 - val_acc: 0.9497\n",
      "\n",
      "Epoch 00010: val_acc did not improve from 0.96518\n",
      "Epoch 11/30\n",
      "2066/2066 [==============================] - 1s 565us/step - loss: 0.0026 - acc: 0.9976 - val_loss: 0.1765 - val_acc: 0.9516\n",
      "\n",
      "Epoch 00011: val_acc did not improve from 0.96518\n",
      "Epoch 12/30\n",
      "2066/2066 [==============================] - 1s 485us/step - loss: 0.0025 - acc: 0.9976 - val_loss: 0.1776 - val_acc: 0.9516\n",
      "\n",
      "Epoch 00012: val_acc did not improve from 0.96518\n",
      "Epoch 13/30\n",
      "2066/2066 [==============================] - 1s 483us/step - loss: 0.0025 - acc: 0.9981 - val_loss: 0.1784 - val_acc: 0.9516\n",
      "\n",
      "Epoch 00013: val_acc did not improve from 0.96518\n",
      "Epoch 14/30\n",
      "2066/2066 [==============================] - 1s 482us/step - loss: 0.0024 - acc: 0.9981 - val_loss: 0.1793 - val_acc: 0.9555\n",
      "\n",
      "Epoch 00014: val_acc did not improve from 0.96518\n",
      "Epoch 15/30\n",
      "2066/2066 [==============================] - 1s 486us/step - loss: 0.0024 - acc: 0.9981 - val_loss: 0.1861 - val_acc: 0.9516\n",
      "\n",
      "Epoch 00015: val_acc did not improve from 0.96518\n",
      "Epoch 16/30\n",
      "2066/2066 [==============================] - 1s 479us/step - loss: 0.0024 - acc: 0.9981 - val_loss: 0.1890 - val_acc: 0.9516\n",
      "\n",
      "Epoch 00016: val_acc did not improve from 0.96518\n",
      "Epoch 17/30\n",
      "2066/2066 [==============================] - 1s 474us/step - loss: 0.0022 - acc: 0.9981 - val_loss: 0.1929 - val_acc: 0.9516\n",
      "\n",
      "Epoch 00017: val_acc did not improve from 0.96518\n",
      "Epoch 18/30\n",
      "2066/2066 [==============================] - 1s 478us/step - loss: 0.0023 - acc: 0.9981 - val_loss: 0.1905 - val_acc: 0.9555\n",
      "\n",
      "Epoch 00018: val_acc did not improve from 0.96518\n",
      "Epoch 19/30\n",
      "2066/2066 [==============================] - 1s 475us/step - loss: 0.0023 - acc: 0.9981 - val_loss: 0.1932 - val_acc: 0.9516\n",
      "\n",
      "Epoch 00019: val_acc did not improve from 0.96518\n",
      "Epoch 20/30\n",
      "2066/2066 [==============================] - 1s 482us/step - loss: 0.0025 - acc: 0.9734 - val_loss: 0.2218 - val_acc: 0.9323\n",
      "\n",
      "Epoch 00020: val_acc did not improve from 0.96518\n",
      "Epoch 21/30\n",
      "2066/2066 [==============================] - 1s 573us/step - loss: 0.0030 - acc: 0.9676 - val_loss: 0.2120 - val_acc: 0.9323\n",
      "\n",
      "Epoch 00021: val_acc did not improve from 0.96518\n",
      "Epoch 22/30\n",
      "2066/2066 [==============================] - 1s 510us/step - loss: 0.0028 - acc: 0.9676 - val_loss: 0.1917 - val_acc: 0.9381\n",
      "\n",
      "Epoch 00022: val_acc did not improve from 0.96518\n",
      "Epoch 23/30\n",
      "2066/2066 [==============================] - 1s 487us/step - loss: 0.0025 - acc: 0.9855 - val_loss: 0.1768 - val_acc: 0.9594\n",
      "\n",
      "Epoch 00023: val_acc did not improve from 0.96518\n",
      "Epoch 24/30\n",
      "2066/2066 [==============================] - 1s 496us/step - loss: 0.0021 - acc: 0.9981 - val_loss: 0.1708 - val_acc: 0.9613\n",
      "\n",
      "Epoch 00024: val_acc did not improve from 0.96518\n",
      "Epoch 25/30\n",
      "2066/2066 [==============================] - 1s 514us/step - loss: 0.0022 - acc: 0.9985 - val_loss: 0.1780 - val_acc: 0.9555\n",
      "\n",
      "Epoch 00025: val_acc did not improve from 0.96518\n",
      "Epoch 26/30\n",
      "2066/2066 [==============================] - 1s 532us/step - loss: 0.0022 - acc: 0.9981 - val_loss: 0.1826 - val_acc: 0.9555\n",
      "\n",
      "Epoch 00026: val_acc did not improve from 0.96518\n",
      "Epoch 27/30\n",
      "2066/2066 [==============================] - 1s 515us/step - loss: 0.0021 - acc: 0.9985 - val_loss: 0.1797 - val_acc: 0.9574\n",
      "\n",
      "Epoch 00027: val_acc did not improve from 0.96518\n",
      "Epoch 28/30\n",
      "2066/2066 [==============================] - 1s 533us/step - loss: 0.0021 - acc: 0.9985 - val_loss: 0.1845 - val_acc: 0.9574\n",
      "\n",
      "Epoch 00028: val_acc did not improve from 0.96518\n",
      "Epoch 29/30\n",
      "2066/2066 [==============================] - 1s 504us/step - loss: 0.0021 - acc: 0.9985 - val_loss: 0.1832 - val_acc: 0.9574\n",
      "\n",
      "Epoch 00029: val_acc did not improve from 0.96518\n",
      "Epoch 30/30\n",
      "2066/2066 [==============================] - 1s 607us/step - loss: 0.0020 - acc: 0.9985 - val_loss: 0.1848 - val_acc: 0.9574\n",
      "\n",
      "Epoch 00030: val_acc did not improve from 0.96518\n"
     ]
    },
    {
     "data": {
      "text/plain": [
       "<keras.callbacks.History at 0x1f6f5212c18>"
      ]
     },
     "execution_count": 44,
     "metadata": {},
     "output_type": "execute_result"
    }
   ],
   "source": [
    "model.fit(X_train,y_train,batch_size=256,epochs=30,validation_data=[X_test,y_test],class_weight=class_wgt,\n",
    "          callbacks=[checkpoint,TensorBoard(log_dir='C:/SKCY/Python/COWI/')])\n",
    "\n",
    "#model.fit(X_train,y_train,batch_size=128,epochs=10,validation_data=[X_test,y_test],\n",
    "          #callbacks=my_callbacks)"
   ]
  },
  {
   "cell_type": "markdown",
   "metadata": {},
   "source": [
    "### Predict on test data"
   ]
  },
  {
   "cell_type": "code",
   "execution_count": 45,
   "metadata": {},
   "outputs": [],
   "source": [
    "y_pred=model.predict(X_test)"
   ]
  },
  {
   "cell_type": "code",
   "execution_count": 21,
   "metadata": {},
   "outputs": [],
   "source": [
    "#y_test[100:120]"
   ]
  },
  {
   "cell_type": "code",
   "execution_count": 22,
   "metadata": {},
   "outputs": [],
   "source": [
    "#y_pred[100:120]"
   ]
  },
  {
   "cell_type": "markdown",
   "metadata": {},
   "source": [
    "#### Check for threshold"
   ]
  },
  {
   "cell_type": "code",
   "execution_count": 53,
   "metadata": {},
   "outputs": [
    {
     "name": "stdout",
     "output_type": "stream",
     "text": [
      "Probablistic threshold: 0.1\n",
      "[[476  14]\n",
      " [  8  19]]\n",
      "Probablistic threshold: 0.16\n",
      "[[476  14]\n",
      " [  8  19]]\n",
      "Probablistic threshold: 0.22\n",
      "[[476  14]\n",
      " [  8  19]]\n",
      "Probablistic threshold: 0.28\n",
      "[[476  14]\n",
      " [  8  19]]\n",
      "Probablistic threshold: 0.34\n",
      "[[476  14]\n",
      " [  8  19]]\n",
      "Probablistic threshold: 0.4\n",
      "[[476  14]\n",
      " [  8  19]]\n",
      "Probablistic threshold: 0.46\n",
      "[[476  14]\n",
      " [  8  19]]\n"
     ]
    }
   ],
   "source": [
    "from sklearn.metrics import confusion_matrix,accuracy_score,classification_report\n",
    "\n",
    "for i in range (10,50,6):\n",
    "    y_pred_n=np.where(y_pred>i/100,1,0)\n",
    "    print('Probablistic threshold:',i/100)\n",
    "    print(confusion_matrix(y_test,y_pred_n))  \n",
    "    "
   ]
  },
  {
   "cell_type": "code",
   "execution_count": 47,
   "metadata": {},
   "outputs": [],
   "source": [
    "#Thershold of 0.4 looks good\n",
    "y_pred=np.where(y_pred>0.4,1,0)"
   ]
  },
  {
   "cell_type": "code",
   "execution_count": 49,
   "metadata": {},
   "outputs": [
    {
     "data": {
      "image/png": "[encoded data removed]",
      "text/plain": [
       "<matplotlib.figure.Figure at 0x1f68234b550>"
      ]
     },
     "metadata": {
      "needs_background": "light"
     },
     "output_type": "display_data"
    }
   ],
   "source": [
    "import seaborn as sns\n",
    "import matplotlib.pyplot as plt\n",
    "sns.heatmap(confusion_matrix(y_test,y_pred),linecolor='black',linewidths=0.1,fmt='d',annot=True,square=True,cmap='gray_r',\n",
    "            yticklabels=['NO_Feedback','Feedback'],xticklabels=['NO_Feedback','Feedback'])\n",
    "plt.title('Confusion Matrix')\n",
    "plt.xlabel('Prediction')\n",
    "plt.ylabel('Actual')\n",
    "plt.show()"
   ]
  },
  {
   "cell_type": "code",
   "execution_count": 52,
   "metadata": {},
   "outputs": [
    {
     "data": {
      "text/plain": [
       "0.9574468085106383"
      ]
     },
     "execution_count": 52,
     "metadata": {},
     "output_type": "execute_result"
    }
   ],
   "source": [
    "accuracy_score(y_pred,y_test)"
   ]
  },
  {
   "cell_type": "code",
   "execution_count": 57,
   "metadata": {},
   "outputs": [
    {
     "name": "stdout",
     "output_type": "stream",
     "text": [
      "Classification report:\n",
      "              precision    recall  f1-score   support\n",
      "\n",
      "          0       0.97      0.98      0.98       484\n",
      "          1       0.70      0.58      0.63        33\n",
      "\n",
      "avg / total       0.95      0.96      0.96       517\n",
      "\n"
     ]
    }
   ],
   "source": [
    "print('Classification report:\\n',classification_report(y_pred,y_test))"
   ]
  },
  {
   "cell_type": "markdown",
   "metadata": {},
   "source": [
    "#### Dump the Tokenizer function for further prediction"
   ]
  },
  {
   "cell_type": "code",
   "execution_count": 50,
   "metadata": {},
   "outputs": [],
   "source": [
    "import pickle\n",
    "pickle.dump(t,open('C:/SKCY/Python/COWI/text_tokenizer_test.hdf5','wb'))"
   ]
  },
  {
   "cell_type": "markdown",
   "metadata": {},
   "source": [
    "### Conclusion: \n",
    "In the above work the purpose is to find best possible Feedback emails, so our focus will be to improve recall score of class-1. At this moment TDIDF with Tanh activation for dense layers looks good with probability>0.4, We have also applied class weights to handle imbalance in dataset.\n",
    "\n",
    "In next notebook I shall try doing feature engineering and stacking up models to explore if we can obtain better than this baseline prediction. \n"
   ]
  }
 ],
 "metadata": {
  "kernelspec": {
   "display_name": "Python 3",
   "language": "python",
   "name": "python3"
  },
  "language_info": {
   "codemirror_mode": {
    "name": "ipython",
    "version": 3
   },
   "file_extension": ".py",
   "mimetype": "text/x-python",
   "name": "python",
   "nbconvert_exporter": "python",
   "pygments_lexer": "ipython3",
   "version": "3.6.0"
  },
  "latex_envs": {
   "LaTeX_envs_menu_present": true,
   "autoclose": false,
   "autocomplete": true,
   "bibliofile": "biblio.bib",
   "cite_by": "apalike",
   "current_citInitial": 1,
   "eqLabelWithNumbers": true,
   "eqNumInitial": 1,
   "hotkeys": {
    "equation": "Ctrl-E",
    "itemize": "Ctrl-I"
   },
   "labels_anchors": false,
   "latex_user_defs": false,
   "report_style_numbering": false,
   "user_envs_cfg": false
  }
 },
 "nbformat": 4,
 "nbformat_minor": 2
}
